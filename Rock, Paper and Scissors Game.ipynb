{
 "cells": [
  {
   "cell_type": "markdown",
   "metadata": {},
   "source": [
    "# Project 5: Essentials of Python Programming"
   ]
  },
  {
   "cell_type": "markdown",
   "metadata": {},
   "source": [
    "## Developing ‘Rock, Paper and Scissors’ game using Python programming"
   ]
  },
  {
   "cell_type": "markdown",
   "metadata": {},
   "source": [
    "### Developed by Madhura Shegaonkar\n",
    "#### Email ID - m.shegaonkar@somaiya.edu"
   ]
  },
  {
   "cell_type": "markdown",
   "metadata": {},
   "source": [
    "### Importing required modules"
   ]
  },
  {
   "cell_type": "code",
   "execution_count": 3,
   "metadata": {},
   "outputs": [],
   "source": [
    "import random"
   ]
  },
  {
   "cell_type": "markdown",
   "metadata": {},
   "source": [
    "### While loop to play the game several times"
   ]
  },
  {
   "cell_type": "code",
   "execution_count": 7,
   "metadata": {},
   "outputs": [
    {
     "name": "stdout",
     "output_type": "stream",
     "text": [
      "Enter a choice (rock, paper, scissors): rock\n",
      "\n",
      "You chose rock, computer chose rock.\n",
      "\n",
      "Both players selected rock. It's a tie!\n",
      "Press 'Q' to quit or any other key to continue : g\n",
      "Enter a choice (rock, paper, scissors): rock\n",
      "\n",
      "You chose rock, computer chose scissors.\n",
      "\n",
      "Rock smashes scissors! You win!\n",
      "Press 'Q' to quit or any other key to continue : q\n",
      "Thank you for playing!\n"
     ]
    }
   ],
   "source": [
    "# User is given a choice between Rock, Paper and Scissors\n",
    "# Computer chooses an action randomly using 'random' module\n",
    "# Using conditional operators to decide the winner\n",
    "while True:\n",
    "    user_action = input(\"Enter a choice (rock, paper, scissors): \")     # This will prompt the user to enter a selection and save it to a variable for later use.\n",
    "    possible_actions = [\"rock\", \"paper\", \"scissors\"]\n",
    "    computer_action = random.choice(possible_actions)     # This allows a random element to be selected from the list.\n",
    "    print(f\"\\nYou chose {user_action}, computer chose {computer_action}.\\n\")\n",
    "\n",
    "    # Determinig the winner using if … elif … else block-\n",
    "    if user_action == computer_action:\n",
    "        print(f\"Both players selected {user_action}. It's a tie!\")\n",
    "    elif user_action == \"rock\":\n",
    "        if computer_action == \"scissors\":\n",
    "            print(\"Rock smashes scissors! You win!\")\n",
    "        else:\n",
    "            print(\"Paper covers rock! You lose.\")\n",
    "    elif user_action == \"paper\":\n",
    "        if computer_action == \"rock\":\n",
    "            print(\"Paper covers rock! You win!\")\n",
    "        else:\n",
    "            print(\"Scissors cuts paper! You lose.\")\n",
    "    elif user_action == \"scissors\":\n",
    "        if computer_action == \"paper\":\n",
    "            print(\"Scissors cuts paper! You win!\")\n",
    "        else:\n",
    "            print(\"Rock smashes scissors! You lose.\")\n",
    "\n",
    "    # If the user presses 'Q'/'q', the loop terminates, otherwise the game goes on.        \n",
    "    quit = input(\"Press 'Q' to quit or any other key to continue : \")\n",
    "    if quit.lower() == \"q\":\n",
    "        print(\"Thank you for playing!\")\n",
    "        break"
   ]
  }
 ],
 "metadata": {
  "kernelspec": {
   "display_name": "Python 3",
   "language": "python",
   "name": "python3"
  },
  "language_info": {
   "codemirror_mode": {
    "name": "ipython",
    "version": 3
   },
   "file_extension": ".py",
   "mimetype": "text/x-python",
   "name": "python",
   "nbconvert_exporter": "python",
   "pygments_lexer": "ipython3",
   "version": "3.7.6"
  }
 },
 "nbformat": 4,
 "nbformat_minor": 4
}
